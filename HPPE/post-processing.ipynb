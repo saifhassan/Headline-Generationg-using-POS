{
 "cells": [
  {
   "cell_type": "markdown",
   "metadata": {},
   "source": [
    "# `Headlines POS Pattern Extraction (HPPE)`\n",
    "\n",
    "\n",
    "`Steps for achieving HPPE:`\n",
    "\n",
    "- `Reading generated headlines .txt file`\n",
    "- `Determine POS Tags for all the headlines`\n",
    "- `POS Tags are fed to removeIdentical() function and return unique POS Tags`\n",
    "- `Unique POS Tags are matched with POS Tags of original headlines`"
   ]
  },
  {
   "cell_type": "code",
   "execution_count": 33,
   "metadata": {
    "colab": {
     "base_uri": "https://localhost:8080/"
    },
    "id": "5LfQ1JxikmF4",
    "outputId": "4f0bf71d-bc22-410d-90ed-743c545dcf29"
   },
   "outputs": [],
   "source": [
    "import pandas as pd\n",
    "import numpy as np\n",
    "import stanza\n",
    "from tqdm import tqdm, trange\n",
    "import itertools"
   ]
  },
  {
   "cell_type": "code",
   "execution_count": 34,
   "metadata": {
    "colab": {
     "base_uri": "https://localhost:8080/",
     "height": 114,
     "referenced_widgets": [
      "3d5beb12be07468cba6123776c2ecf9b",
      "ac53e8c720064790bca51a2f5cf2921f",
      "3641f408a213484baa0dee19fb888170",
      "5322bb3b70c54798a9772519b2374933",
      "61152e15735840118c7f8d11d23bd322",
      "fcbac440ec0a4a6191f03ad321011ac2",
      "39f2c16de05b4e6bb67656ed08281974",
      "bfef8b3e75cf4a2bbb306735bdce9414",
      "827a618362d0430d923abf33d7e2c9d0",
      "531af6ea93904c72ab353e203f22876c",
      "6e000a96ee82480f8244e809328d3727",
      "8cfec52e79a641e696a5d3917067f4ea",
      "0b0058c93c5940628c48d2f931d4c48c",
      "abe2166ee6b44a6f8e1217576f5352d7",
      "5cc6ed1a1f1e4e82bb84cd8b90eef884",
      "65c278f054c44461b37178c18cea58ed",
      "7fd3502af366428cb161db9c189665b7",
      "f15939d974004c4cb5c2846e62bdc89f",
      "bab67d862f804182ab2e6418c101004c",
      "9c441bec46ba448d98c2a8291eee69d1",
      "519bd2dd60f94dd49ab8158b5899f06b",
      "cdfb19a6644f4a4fbf24e5538e4ce880"
     ]
    },
    "id": "TrJv14Uwkrff",
    "outputId": "69fc3989-f219-4daf-ddb2-ab17bd39c527"
   },
   "outputs": [
    {
     "data": {
      "application/vnd.jupyter.widget-view+json": {
       "model_id": "d507aa9f0e0e41e4858d5c0bf05b3689",
       "version_major": 2,
       "version_minor": 0
      },
      "text/plain": [
       "Downloading https://raw.githubusercontent.com/stanfordnlp/stanza-resources/main/resources_1.3.0.json:   0%|   …"
      ]
     },
     "metadata": {},
     "output_type": "display_data"
    },
    {
     "name": "stderr",
     "output_type": "stream",
     "text": [
      "2023-04-04 12:10:00 INFO: Downloading default packages for language: ur (Urdu)...\n",
      "2023-04-04 12:10:01 INFO: File exists: /Users/saifhassan/stanza_resources/ur/default.zip.\n",
      "2023-04-04 12:10:02 INFO: Finished downloading models and saved to /Users/saifhassan/stanza_resources.\n"
     ]
    }
   ],
   "source": [
    "stanza.download('ur') # 'en' for english"
   ]
  },
  {
   "cell_type": "code",
   "execution_count": 35,
   "metadata": {
    "colab": {
     "base_uri": "https://localhost:8080/"
    },
    "id": "c9GnwTJkkydf",
    "outputId": "b53b94df-1554-4ba8-e21c-3d0021dcfce6"
   },
   "outputs": [
    {
     "name": "stderr",
     "output_type": "stream",
     "text": [
      "2023-04-04 12:10:02 INFO: Loading these models for language: ur (Urdu):\n",
      "=======================\n",
      "| Processor | Package |\n",
      "-----------------------\n",
      "| tokenize  | udtb    |\n",
      "| pos       | udtb    |\n",
      "| lemma     | udtb    |\n",
      "| depparse  | udtb    |\n",
      "=======================\n",
      "\n",
      "2023-04-04 12:10:02 INFO: Use device: cpu\n",
      "2023-04-04 12:10:02 INFO: Loading: tokenize\n",
      "2023-04-04 12:10:02 INFO: Loading: pos\n",
      "2023-04-04 12:10:02 INFO: Loading: lemma\n"
     ]
    },
    {
     "name": "stdout",
     "output_type": "stream",
     "text": [
      "Building a Urdu pipeline...\n"
     ]
    },
    {
     "name": "stderr",
     "output_type": "stream",
     "text": [
      "2023-04-04 12:10:02 INFO: Loading: depparse\n",
      "2023-04-04 12:10:02 INFO: Done loading processors!\n"
     ]
    }
   ],
   "source": [
    "# Build a Urdu pipeline, with customized processor list and no logging, and force it to use CPU\n",
    "print(\"Building a Urdu pipeline...\")\n",
    "ur_nlp = stanza.Pipeline('ur', processors='tokenize,lemma,pos,depparse')"
   ]
  },
  {
   "cell_type": "markdown",
   "metadata": {},
   "source": [
    "## `Reading generated headlines and converting to csv`"
   ]
  },
  {
   "cell_type": "code",
   "execution_count": 48,
   "metadata": {},
   "outputs": [
    {
     "name": "stdout",
     "output_type": "stream",
     "text": [
      "501 (501, 1)\n"
     ]
    }
   ],
   "source": [
    "# reading generated headlines and converting to dataframe\n",
    "file = open('data/news-gen-120.txt', 'r') # picked sample headlines\n",
    "contents = file.read()\n",
    "contents = contents.split('\\n')\n",
    "df = pd.DataFrame(contents, columns=['Headline'])\n",
    "print(len(contents), df.shape)\n",
    "df.head()\n",
    "df.to_csv('data/news-gen-120.csv')"
   ]
  },
  {
   "cell_type": "markdown",
   "metadata": {},
   "source": [
    "## `Pos Tags Extraction for Headlines`"
   ]
  },
  {
   "cell_type": "code",
   "execution_count": 49,
   "metadata": {
    "colab": {
     "base_uri": "https://localhost:8080/"
    },
    "id": "Pe5UPCt1k1GN",
    "outputId": "3cea6a84-332c-4aca-e2e7-e0469338bbf5"
   },
   "outputs": [],
   "source": [
    "# Processing urdu text for pos tags\n",
    "#ur_doc = ur_nlp(\"اسٹاف رپورٹ لاہور ڈاکٹروں کا گھروں سے باہر نکل جانے کیخلاف لاہور ہائیکورٹ میں درخواست دائر کردی گئی پاکستان کرکٹ\")\n",
    "\n",
    "def return_pos_tags(list_headlines):\n",
    "    pos_tags = []\n",
    "    sentences = []\n",
    "    for sen in tqdm(range(0, len(list_headlines)-1)):\n",
    "        ur_doc = ur_nlp(list_headlines[sen])\n",
    "        dummy_pos = \"\"\n",
    "        dummy_sen = \"\"\n",
    "        for i, sent in enumerate(ur_doc.sentences):\n",
    "            for word in sent.words:\n",
    "                dummy_pos += word.pos + \" \"\n",
    "                dummy_sen += word.text + \" \"\n",
    "\n",
    "            pos_tags.append(dummy_pos)\n",
    "            sentences.append(dummy_sen)\n",
    "    print(len(pos_tags), len(sentences))\n",
    "    return pos_tags, sentences"
   ]
  },
  {
   "cell_type": "code",
   "execution_count": 67,
   "metadata": {},
   "outputs": [
    {
     "data": {
      "text/html": [
       "<div>\n",
       "<style scoped>\n",
       "    .dataframe tbody tr th:only-of-type {\n",
       "        vertical-align: middle;\n",
       "    }\n",
       "\n",
       "    .dataframe tbody tr th {\n",
       "        vertical-align: top;\n",
       "    }\n",
       "\n",
       "    .dataframe thead th {\n",
       "        text-align: right;\n",
       "    }\n",
       "</style>\n",
       "<table border=\"1\" class=\"dataframe\">\n",
       "  <thead>\n",
       "    <tr style=\"text-align: right;\">\n",
       "      <th></th>\n",
       "      <th>Unnamed: 0</th>\n",
       "      <th>Headline</th>\n",
       "    </tr>\n",
       "  </thead>\n",
       "  <tbody>\n",
       "    <tr>\n",
       "      <th>0</th>\n",
       "      <td>0</td>\n",
       "      <td>کراچی اردو پوائنٹ اخبارتازہ ترین این این ئی 08...</td>\n",
       "    </tr>\n",
       "    <tr>\n",
       "      <th>1</th>\n",
       "      <td>1</td>\n",
       "      <td>کراچیاردو پوائنٹ اخبار تازہ ترین14دسمبر 2014ءگ...</td>\n",
       "    </tr>\n",
       "    <tr>\n",
       "      <th>2</th>\n",
       "      <td>2</td>\n",
       "      <td>لاہوراردو پوائنٹ اخبارتازہ ترین لائن 17 اپریل2...</td>\n",
       "    </tr>\n",
       "    <tr>\n",
       "      <th>3</th>\n",
       "      <td>3</td>\n",
       "      <td>لاہوراردو پوائنٹ اخبارتازہ ترین لائن 11 جنوری2...</td>\n",
       "    </tr>\n",
       "    <tr>\n",
       "      <th>4</th>\n",
       "      <td>4</td>\n",
       "      <td>قائد اعظم ٹرافی کے تیسرے رانڈ کے چوتھے دن سنٹر...</td>\n",
       "    </tr>\n",
       "  </tbody>\n",
       "</table>\n",
       "</div>"
      ],
      "text/plain": [
       "   Unnamed: 0                                           Headline\n",
       "0           0  کراچی اردو پوائنٹ اخبارتازہ ترین این این ئی 08...\n",
       "1           1  کراچیاردو پوائنٹ اخبار تازہ ترین14دسمبر 2014ءگ...\n",
       "2           2  لاہوراردو پوائنٹ اخبارتازہ ترین لائن 17 اپریل2...\n",
       "3           3  لاہوراردو پوائنٹ اخبارتازہ ترین لائن 11 جنوری2...\n",
       "4           4  قائد اعظم ٹرافی کے تیسرے رانڈ کے چوتھے دن سنٹر..."
      ]
     },
     "execution_count": 67,
     "metadata": {},
     "output_type": "execute_result"
    }
   ],
   "source": [
    "# reading csv file to determine POS Tags\n",
    "filename = 'data/news-gen-120.csv'\n",
    "df = pd.read_csv(filename)\n",
    "df.head()"
   ]
  },
  {
   "cell_type": "code",
   "execution_count": 68,
   "metadata": {},
   "outputs": [
    {
     "name": "stdout",
     "output_type": "stream",
     "text": [
      "['کراچی اردو پوائنٹ اخبارتازہ ترین این این ئی 08 نومبر2019ءملکی کرنسی مارکیٹوں میں بدھ کوپاکستانی روپ�']\n"
     ]
    }
   ],
   "source": [
    "list_headlines = df['Headline'].tolist()\n",
    "print(list_headlines[:1])"
   ]
  },
  {
   "cell_type": "code",
   "execution_count": 69,
   "metadata": {},
   "outputs": [
    {
     "name": "stderr",
     "output_type": "stream",
     "text": [
      "100%|██████████| 500/500 [01:09<00:00,  7.20it/s]"
     ]
    },
    {
     "name": "stdout",
     "output_type": "stream",
     "text": [
      "500 500\n"
     ]
    },
    {
     "name": "stderr",
     "output_type": "stream",
     "text": [
      "\n"
     ]
    }
   ],
   "source": [
    "pos_tags, sentences = return_pos_tags(list_headlines)"
   ]
  },
  {
   "cell_type": "code",
   "execution_count": 70,
   "metadata": {
    "id": "dbMH2Ji82pC6"
   },
   "outputs": [],
   "source": [
    "#storing pos tags and headlines in csv file\n",
    "filename = 'data/pos-tags-gen.csv'\n",
    "df = pd.DataFrame(list(zip(sentences, pos_tags)), columns=['sentences', 'pos_tags'])\n",
    "df.to_csv(filename, index=False)"
   ]
  },
  {
   "cell_type": "markdown",
   "metadata": {},
   "source": [
    "## `Removing identical POS tags`"
   ]
  },
  {
   "cell_type": "code",
   "execution_count": 55,
   "metadata": {},
   "outputs": [
    {
     "data": {
      "text/html": [
       "<div>\n",
       "<style scoped>\n",
       "    .dataframe tbody tr th:only-of-type {\n",
       "        vertical-align: middle;\n",
       "    }\n",
       "\n",
       "    .dataframe tbody tr th {\n",
       "        vertical-align: top;\n",
       "    }\n",
       "\n",
       "    .dataframe thead th {\n",
       "        text-align: right;\n",
       "    }\n",
       "</style>\n",
       "<table border=\"1\" class=\"dataframe\">\n",
       "  <thead>\n",
       "    <tr style=\"text-align: right;\">\n",
       "      <th></th>\n",
       "      <th>sentences</th>\n",
       "      <th>pos_tags</th>\n",
       "    </tr>\n",
       "  </thead>\n",
       "  <tbody>\n",
       "    <tr>\n",
       "      <th>0</th>\n",
       "      <td>کراچی اردو پوائنٹ اخبارتازہ ترین این این ئی 08...</td>\n",
       "      <td>PROPN PROPN NOUN ADJ ADJ PROPN PROPN PROPN PRO...</td>\n",
       "    </tr>\n",
       "    <tr>\n",
       "      <th>1</th>\n",
       "      <td>کراچیاردو پوائنٹ اخبار تازہ ترین14دسمبر 2014ءگ...</td>\n",
       "      <td>PROPN PROPN NOUN ADJ PROPN PROPN PROPN NOUN AD...</td>\n",
       "    </tr>\n",
       "    <tr>\n",
       "      <th>2</th>\n",
       "      <td>لاہوراردو پوائنٹ اخبارتازہ ترین لائن 17 اپریل2...</td>\n",
       "      <td>PROPN PROPN ADJ PROPN NOUN PROPN PROPN ADJ NOU...</td>\n",
       "    </tr>\n",
       "    <tr>\n",
       "      <th>3</th>\n",
       "      <td>لاہوراردو پوائنٹ اخبارتازہ ترین لائن 11 جنوری2...</td>\n",
       "      <td>PROPN PROPN PROPN PROPN NOUN PROPN PROPN PROPN...</td>\n",
       "    </tr>\n",
       "    <tr>\n",
       "      <th>4</th>\n",
       "      <td>قائد اعظم ٹرافی کے تیسرے رانڈ کے چوتھے دن سنٹر...</td>\n",
       "      <td>NOUN PROPN NOUN ADP ADJ NOUN ADP ADJ NOUN PROP...</td>\n",
       "    </tr>\n",
       "  </tbody>\n",
       "</table>\n",
       "</div>"
      ],
      "text/plain": [
       "                                           sentences  \\\n",
       "0  کراچی اردو پوائنٹ اخبارتازہ ترین این این ئی 08...   \n",
       "1  کراچیاردو پوائنٹ اخبار تازہ ترین14دسمبر 2014ءگ...   \n",
       "2  لاہوراردو پوائنٹ اخبارتازہ ترین لائن 17 اپریل2...   \n",
       "3  لاہوراردو پوائنٹ اخبارتازہ ترین لائن 11 جنوری2...   \n",
       "4  قائد اعظم ٹرافی کے تیسرے رانڈ کے چوتھے دن سنٹر...   \n",
       "\n",
       "                                            pos_tags  \n",
       "0  PROPN PROPN NOUN ADJ ADJ PROPN PROPN PROPN PRO...  \n",
       "1  PROPN PROPN NOUN ADJ PROPN PROPN PROPN NOUN AD...  \n",
       "2  PROPN PROPN ADJ PROPN NOUN PROPN PROPN ADJ NOU...  \n",
       "3  PROPN PROPN PROPN PROPN NOUN PROPN PROPN PROPN...  \n",
       "4  NOUN PROPN NOUN ADP ADJ NOUN ADP ADJ NOUN PROP...  "
      ]
     },
     "execution_count": 55,
     "metadata": {},
     "output_type": "execute_result"
    }
   ],
   "source": [
    "filename = 'data/pos-tags-gen.csv' # filename --> from which you want to remove identical\n",
    "df = pd.read_csv(filename)\n",
    "df.head()"
   ]
  },
  {
   "cell_type": "code",
   "execution_count": 56,
   "metadata": {},
   "outputs": [],
   "source": [
    "#removing duplicates Pos Tags (only contigous) in each record\n",
    "def removeIdentical(text):\n",
    "    result = []\n",
    "    for i in tqdm(text):\n",
    "        sentence = ' '.join(k for k, _ in itertools.groupby(i[0].split()))\n",
    "        sentence = sentence\n",
    "        result.append(sentence)\n",
    "\n",
    "    return result"
   ]
  },
  {
   "cell_type": "code",
   "execution_count": 57,
   "metadata": {},
   "outputs": [],
   "source": [
    "pos_tags_list = df['pos_tags'].tolist()"
   ]
  },
  {
   "cell_type": "code",
   "execution_count": 58,
   "metadata": {},
   "outputs": [],
   "source": [
    "pos_2dlist = np.array(pos_tags_list).reshape(len(pos_tags_list),1)"
   ]
  },
  {
   "cell_type": "code",
   "execution_count": 59,
   "metadata": {},
   "outputs": [
    {
     "name": "stderr",
     "output_type": "stream",
     "text": [
      "100%|██████████| 500/500 [00:00<00:00, 97387.94it/s]\n"
     ]
    }
   ],
   "source": [
    "result_list = removeIdentical(pos_2dlist)\n",
    "df_unique = pd.DataFrame(result_list, columns=['unique_pos'])\n",
    "df['unique_pos'] = df_unique\n",
    "df.to_csv(filename.split('.')[0]+'-unique.csv', index=False)"
   ]
  },
  {
   "cell_type": "markdown",
   "metadata": {},
   "source": [
    "## `Matching POS tags for generated headlines with original`"
   ]
  },
  {
   "cell_type": "code",
   "execution_count": 75,
   "metadata": {},
   "outputs": [
    {
     "data": {
      "text/html": [
       "<div>\n",
       "<style scoped>\n",
       "    .dataframe tbody tr th:only-of-type {\n",
       "        vertical-align: middle;\n",
       "    }\n",
       "\n",
       "    .dataframe tbody tr th {\n",
       "        vertical-align: top;\n",
       "    }\n",
       "\n",
       "    .dataframe thead th {\n",
       "        text-align: right;\n",
       "    }\n",
       "</style>\n",
       "<table border=\"1\" class=\"dataframe\">\n",
       "  <thead>\n",
       "    <tr style=\"text-align: right;\">\n",
       "      <th></th>\n",
       "      <th>sentences</th>\n",
       "      <th>pos_tags</th>\n",
       "      <th>identical_pos</th>\n",
       "    </tr>\n",
       "  </thead>\n",
       "  <tbody>\n",
       "    <tr>\n",
       "      <th>0</th>\n",
       "      <td>عالمی بینک عسکریت پسندی سے متاثرہ خاندانوں کی ...</td>\n",
       "      <td>ADJ NOUN NOUN NOUN ADP ADJ NOUN ADP NOUN VERB ...</td>\n",
       "      <td>ADJ NOUN ADP ADJ NOUN ADP NOUN VERB AUX</td>\n",
       "    </tr>\n",
       "    <tr>\n",
       "      <th>1</th>\n",
       "      <td>مالی سال 2020 ریٹرن فائل کرنے والوں کی تعداد م...</td>\n",
       "      <td>ADJ NOUN NUM NOUN NOUN VERB ADP ADP NOUN ADP N...</td>\n",
       "      <td>ADJ NOUN NUM NOUN VERB ADP NOUN ADP NUM NOUN</td>\n",
       "    </tr>\n",
       "    <tr>\n",
       "      <th>2</th>\n",
       "      <td>جاپان کو سندھ کے خصوصی اقتصادی زون میں سرمایہ ...</td>\n",
       "      <td>PROPN ADP PROPN ADP ADJ ADJ NOUN ADP ADJ NOUN ...</td>\n",
       "      <td>PROPN ADP PROPN ADP ADJ NOUN ADP ADJ NOUN ADP ...</td>\n",
       "    </tr>\n",
       "    <tr>\n",
       "      <th>3</th>\n",
       "      <td>برامدات 767 فیصد بڑھ کر ارب 16 کروڑ ڈالر سے زائد</td>\n",
       "      <td>NOUN NUM NOUN VERB AUX NUM NUM NUM NOUN ADP ADJ</td>\n",
       "      <td>NOUN NUM NOUN VERB AUX NUM NOUN ADP ADJ</td>\n",
       "    </tr>\n",
       "    <tr>\n",
       "      <th>4</th>\n",
       "      <td>کے الیکٹرک کو اضافی بجلی گیس کی فراہمی کے قانو...</td>\n",
       "      <td>ADP NOUN ADP ADJ NOUN NOUN ADP NOUN ADP ADJ NO...</td>\n",
       "      <td>ADP NOUN ADP ADJ NOUN ADP NOUN ADP ADJ NOUN AD...</td>\n",
       "    </tr>\n",
       "  </tbody>\n",
       "</table>\n",
       "</div>"
      ],
      "text/plain": [
       "                                           sentences  \\\n",
       "0  عالمی بینک عسکریت پسندی سے متاثرہ خاندانوں کی ...   \n",
       "1  مالی سال 2020 ریٹرن فائل کرنے والوں کی تعداد م...   \n",
       "2  جاپان کو سندھ کے خصوصی اقتصادی زون میں سرمایہ ...   \n",
       "3  برامدات 767 فیصد بڑھ کر ارب 16 کروڑ ڈالر سے زائد    \n",
       "4  کے الیکٹرک کو اضافی بجلی گیس کی فراہمی کے قانو...   \n",
       "\n",
       "                                            pos_tags  \\\n",
       "0  ADJ NOUN NOUN NOUN ADP ADJ NOUN ADP NOUN VERB ...   \n",
       "1  ADJ NOUN NUM NOUN NOUN VERB ADP ADP NOUN ADP N...   \n",
       "2  PROPN ADP PROPN ADP ADJ ADJ NOUN ADP ADJ NOUN ...   \n",
       "3   NOUN NUM NOUN VERB AUX NUM NUM NUM NOUN ADP ADJ    \n",
       "4  ADP NOUN ADP ADJ NOUN NOUN ADP NOUN ADP ADJ NO...   \n",
       "\n",
       "                                       identical_pos  \n",
       "0            ADJ NOUN ADP ADJ NOUN ADP NOUN VERB AUX  \n",
       "1       ADJ NOUN NUM NOUN VERB ADP NOUN ADP NUM NOUN  \n",
       "2  PROPN ADP PROPN ADP ADJ NOUN ADP ADJ NOUN ADP ...  \n",
       "3            NOUN NUM NOUN VERB AUX NUM NOUN ADP ADJ  \n",
       "4  ADP NOUN ADP ADJ NOUN ADP NOUN ADP ADJ NOUN AD...  "
      ]
     },
     "execution_count": 75,
     "metadata": {},
     "output_type": "execute_result"
    }
   ],
   "source": [
    "df_org = pd.read_csv('data/pos-tags-org-unique.csv')\n",
    "df_gen = pd.read_csv('data/pos-tags-gen-unique.csv')\n",
    "df_org.head()"
   ]
  },
  {
   "cell_type": "code",
   "execution_count": 76,
   "metadata": {},
   "outputs": [
    {
     "data": {
      "text/html": [
       "<div>\n",
       "<style scoped>\n",
       "    .dataframe tbody tr th:only-of-type {\n",
       "        vertical-align: middle;\n",
       "    }\n",
       "\n",
       "    .dataframe tbody tr th {\n",
       "        vertical-align: top;\n",
       "    }\n",
       "\n",
       "    .dataframe thead th {\n",
       "        text-align: right;\n",
       "    }\n",
       "</style>\n",
       "<table border=\"1\" class=\"dataframe\">\n",
       "  <thead>\n",
       "    <tr style=\"text-align: right;\">\n",
       "      <th></th>\n",
       "      <th>sentences</th>\n",
       "      <th>pos_tags</th>\n",
       "      <th>unique_pos</th>\n",
       "    </tr>\n",
       "  </thead>\n",
       "  <tbody>\n",
       "    <tr>\n",
       "      <th>0</th>\n",
       "      <td>کراچی اردو پوائنٹ اخبارتازہ ترین این این ئی 08...</td>\n",
       "      <td>PROPN PROPN NOUN ADJ ADJ PROPN PROPN PROPN PRO...</td>\n",
       "      <td>PROPN NOUN ADJ PROPN NOUN ADP NOUN ADJ NOUN</td>\n",
       "    </tr>\n",
       "    <tr>\n",
       "      <th>1</th>\n",
       "      <td>کراچیاردو پوائنٹ اخبار تازہ ترین14دسمبر 2014ءگ...</td>\n",
       "      <td>PROPN PROPN NOUN ADJ PROPN PROPN PROPN NOUN AD...</td>\n",
       "      <td>PROPN NOUN ADJ PROPN NOUN ADP PROPN NOUN ADP N...</td>\n",
       "    </tr>\n",
       "    <tr>\n",
       "      <th>2</th>\n",
       "      <td>لاہوراردو پوائنٹ اخبارتازہ ترین لائن 17 اپریل2...</td>\n",
       "      <td>PROPN PROPN ADJ PROPN NOUN PROPN PROPN ADJ NOU...</td>\n",
       "      <td>PROPN ADJ PROPN NOUN PROPN ADJ NOUN PROPN ADP ...</td>\n",
       "    </tr>\n",
       "    <tr>\n",
       "      <th>3</th>\n",
       "      <td>لاہوراردو پوائنٹ اخبارتازہ ترین لائن 11 جنوری2...</td>\n",
       "      <td>PROPN PROPN PROPN PROPN NOUN PROPN PROPN PROPN...</td>\n",
       "      <td>PROPN NOUN PROPN NOUN ADP NOUN VERB</td>\n",
       "    </tr>\n",
       "    <tr>\n",
       "      <th>4</th>\n",
       "      <td>قائد اعظم ٹرافی کے تیسرے رانڈ کے چوتھے دن سنٹر...</td>\n",
       "      <td>NOUN PROPN NOUN ADP ADJ NOUN ADP ADJ NOUN PROP...</td>\n",
       "      <td>NOUN PROPN NOUN ADP ADJ NOUN ADP ADJ NOUN PROP...</td>\n",
       "    </tr>\n",
       "  </tbody>\n",
       "</table>\n",
       "</div>"
      ],
      "text/plain": [
       "                                           sentences  \\\n",
       "0  کراچی اردو پوائنٹ اخبارتازہ ترین این این ئی 08...   \n",
       "1  کراچیاردو پوائنٹ اخبار تازہ ترین14دسمبر 2014ءگ...   \n",
       "2  لاہوراردو پوائنٹ اخبارتازہ ترین لائن 17 اپریل2...   \n",
       "3  لاہوراردو پوائنٹ اخبارتازہ ترین لائن 11 جنوری2...   \n",
       "4  قائد اعظم ٹرافی کے تیسرے رانڈ کے چوتھے دن سنٹر...   \n",
       "\n",
       "                                            pos_tags  \\\n",
       "0  PROPN PROPN NOUN ADJ ADJ PROPN PROPN PROPN PRO...   \n",
       "1  PROPN PROPN NOUN ADJ PROPN PROPN PROPN NOUN AD...   \n",
       "2  PROPN PROPN ADJ PROPN NOUN PROPN PROPN ADJ NOU...   \n",
       "3  PROPN PROPN PROPN PROPN NOUN PROPN PROPN PROPN...   \n",
       "4  NOUN PROPN NOUN ADP ADJ NOUN ADP ADJ NOUN PROP...   \n",
       "\n",
       "                                          unique_pos  \n",
       "0        PROPN NOUN ADJ PROPN NOUN ADP NOUN ADJ NOUN  \n",
       "1  PROPN NOUN ADJ PROPN NOUN ADP PROPN NOUN ADP N...  \n",
       "2  PROPN ADJ PROPN NOUN PROPN ADJ NOUN PROPN ADP ...  \n",
       "3                PROPN NOUN PROPN NOUN ADP NOUN VERB  \n",
       "4  NOUN PROPN NOUN ADP ADJ NOUN ADP ADJ NOUN PROP...  "
      ]
     },
     "execution_count": 76,
     "metadata": {},
     "output_type": "execute_result"
    }
   ],
   "source": [
    "df_gen.head()"
   ]
  },
  {
   "cell_type": "code",
   "execution_count": 77,
   "metadata": {},
   "outputs": [
    {
     "name": "stdout",
     "output_type": "stream",
     "text": [
      "1038384 500 500\n"
     ]
    }
   ],
   "source": [
    "list_org = df_org['identical_pos'].tolist()\n",
    "list_gen = df_gen['unique_pos'].tolist()\n",
    "list_gen_sentences = df_gen['sentences'].tolist()\n",
    "print(len(list_org), len(list_gen), len(list_gen_sentences))"
   ]
  },
  {
   "cell_type": "code",
   "execution_count": 78,
   "metadata": {},
   "outputs": [],
   "source": [
    "top_25 = df_org['identical_pos'].value_counts()[:25].index.tolist()"
   ]
  },
  {
   "cell_type": "code",
   "execution_count": 79,
   "metadata": {},
   "outputs": [
    {
     "data": {
      "text/plain": [
       "92"
      ]
     },
     "execution_count": 79,
     "metadata": {},
     "output_type": "execute_result"
    }
   ],
   "source": [
    "# maching generated POS tags with original\n",
    "list_org_unique = set(list_org)\n",
    "indices_matched = [i for i, item in enumerate(list_gen) if item in list_org_unique]\n",
    "len(indices_matched)"
   ]
  },
  {
   "cell_type": "code",
   "execution_count": 80,
   "metadata": {},
   "outputs": [
    {
     "data": {
      "text/plain": [
       "92"
      ]
     },
     "execution_count": 80,
     "metadata": {},
     "output_type": "execute_result"
    }
   ],
   "source": [
    "filtered_headlines = []\n",
    "for i in indices_matched:\n",
    "    filtered_headlines.append(list_gen_sentences[i])\n",
    "len(filtered_headlines)"
   ]
  },
  {
   "cell_type": "code",
   "execution_count": 81,
   "metadata": {},
   "outputs": [],
   "source": [
    "# storing filtered headlines\n",
    "df_filtered = pd.DataFrame(filtered_headlines, columns=['filtered'])\n",
    "df_filtered.to_csv(\"filtered-headlines.csv\", index=False)            "
   ]
  },
  {
   "cell_type": "code",
   "execution_count": null,
   "metadata": {},
   "outputs": [],
   "source": []
  },
  {
   "cell_type": "code",
   "execution_count": null,
   "metadata": {},
   "outputs": [],
   "source": []
  }
 ],
 "metadata": {
  "colab": {
   "collapsed_sections": [],
   "name": "pos-urdu-headlines",
   "provenance": []
  },
  "kernelspec": {
   "display_name": "Python 3",
   "language": "python",
   "name": "python3"
  },
  "language_info": {
   "codemirror_mode": {
    "name": "ipython",
    "version": 3
   },
   "file_extension": ".py",
   "mimetype": "text/x-python",
   "name": "python",
   "nbconvert_exporter": "python",
   "pygments_lexer": "ipython3",
   "version": "3.8.3"
  },
  "widgets": {
   "application/vnd.jupyter.widget-state+json": {
    "0b0058c93c5940628c48d2f931d4c48c": {
     "model_module": "@jupyter-widgets/base",
     "model_module_version": "1.2.0",
     "model_name": "LayoutModel",
     "state": {
      "_model_module": "@jupyter-widgets/base",
      "_model_module_version": "1.2.0",
      "_model_name": "LayoutModel",
      "_view_count": null,
      "_view_module": "@jupyter-widgets/base",
      "_view_module_version": "1.2.0",
      "_view_name": "LayoutView",
      "align_content": null,
      "align_items": null,
      "align_self": null,
      "border": null,
      "bottom": null,
      "display": null,
      "flex": null,
      "flex_flow": null,
      "grid_area": null,
      "grid_auto_columns": null,
      "grid_auto_flow": null,
      "grid_auto_rows": null,
      "grid_column": null,
      "grid_gap": null,
      "grid_row": null,
      "grid_template_areas": null,
      "grid_template_columns": null,
      "grid_template_rows": null,
      "height": null,
      "justify_content": null,
      "justify_items": null,
      "left": null,
      "margin": null,
      "max_height": null,
      "max_width": null,
      "min_height": null,
      "min_width": null,
      "object_fit": null,
      "object_position": null,
      "order": null,
      "overflow": null,
      "overflow_x": null,
      "overflow_y": null,
      "padding": null,
      "right": null,
      "top": null,
      "visibility": null,
      "width": null
     }
    },
    "3641f408a213484baa0dee19fb888170": {
     "model_module": "@jupyter-widgets/controls",
     "model_module_version": "1.5.0",
     "model_name": "HTMLModel",
     "state": {
      "_dom_classes": [],
      "_model_module": "@jupyter-widgets/controls",
      "_model_module_version": "1.5.0",
      "_model_name": "HTMLModel",
      "_view_count": null,
      "_view_module": "@jupyter-widgets/controls",
      "_view_module_version": "1.5.0",
      "_view_name": "HTMLView",
      "description": "",
      "description_tooltip": null,
      "layout": "IPY_MODEL_39f2c16de05b4e6bb67656ed08281974",
      "placeholder": "​",
      "style": "IPY_MODEL_fcbac440ec0a4a6191f03ad321011ac2",
      "value": "Downloading https://raw.githubusercontent.com/stanfordnlp/stanza-resources/main/resources_1.3.0.json: "
     }
    },
    "39f2c16de05b4e6bb67656ed08281974": {
     "model_module": "@jupyter-widgets/base",
     "model_module_version": "1.2.0",
     "model_name": "LayoutModel",
     "state": {
      "_model_module": "@jupyter-widgets/base",
      "_model_module_version": "1.2.0",
      "_model_name": "LayoutModel",
      "_view_count": null,
      "_view_module": "@jupyter-widgets/base",
      "_view_module_version": "1.2.0",
      "_view_name": "LayoutView",
      "align_content": null,
      "align_items": null,
      "align_self": null,
      "border": null,
      "bottom": null,
      "display": null,
      "flex": null,
      "flex_flow": null,
      "grid_area": null,
      "grid_auto_columns": null,
      "grid_auto_flow": null,
      "grid_auto_rows": null,
      "grid_column": null,
      "grid_gap": null,
      "grid_row": null,
      "grid_template_areas": null,
      "grid_template_columns": null,
      "grid_template_rows": null,
      "height": null,
      "justify_content": null,
      "justify_items": null,
      "left": null,
      "margin": null,
      "max_height": null,
      "max_width": null,
      "min_height": null,
      "min_width": null,
      "object_fit": null,
      "object_position": null,
      "order": null,
      "overflow": null,
      "overflow_x": null,
      "overflow_y": null,
      "padding": null,
      "right": null,
      "top": null,
      "visibility": null,
      "width": null
     }
    },
    "3d5beb12be07468cba6123776c2ecf9b": {
     "model_module": "@jupyter-widgets/controls",
     "model_module_version": "1.5.0",
     "model_name": "HBoxModel",
     "state": {
      "_dom_classes": [],
      "_model_module": "@jupyter-widgets/controls",
      "_model_module_version": "1.5.0",
      "_model_name": "HBoxModel",
      "_view_count": null,
      "_view_module": "@jupyter-widgets/controls",
      "_view_module_version": "1.5.0",
      "_view_name": "HBoxView",
      "box_style": "",
      "children": [
       "IPY_MODEL_3641f408a213484baa0dee19fb888170",
       "IPY_MODEL_5322bb3b70c54798a9772519b2374933",
       "IPY_MODEL_61152e15735840118c7f8d11d23bd322"
      ],
      "layout": "IPY_MODEL_ac53e8c720064790bca51a2f5cf2921f"
     }
    },
    "519bd2dd60f94dd49ab8158b5899f06b": {
     "model_module": "@jupyter-widgets/controls",
     "model_module_version": "1.5.0",
     "model_name": "DescriptionStyleModel",
     "state": {
      "_model_module": "@jupyter-widgets/controls",
      "_model_module_version": "1.5.0",
      "_model_name": "DescriptionStyleModel",
      "_view_count": null,
      "_view_module": "@jupyter-widgets/base",
      "_view_module_version": "1.2.0",
      "_view_name": "StyleView",
      "description_width": ""
     }
    },
    "531af6ea93904c72ab353e203f22876c": {
     "model_module": "@jupyter-widgets/controls",
     "model_module_version": "1.5.0",
     "model_name": "DescriptionStyleModel",
     "state": {
      "_model_module": "@jupyter-widgets/controls",
      "_model_module_version": "1.5.0",
      "_model_name": "DescriptionStyleModel",
      "_view_count": null,
      "_view_module": "@jupyter-widgets/base",
      "_view_module_version": "1.2.0",
      "_view_name": "StyleView",
      "description_width": ""
     }
    },
    "5322bb3b70c54798a9772519b2374933": {
     "model_module": "@jupyter-widgets/controls",
     "model_module_version": "1.5.0",
     "model_name": "FloatProgressModel",
     "state": {
      "_dom_classes": [],
      "_model_module": "@jupyter-widgets/controls",
      "_model_module_version": "1.5.0",
      "_model_name": "FloatProgressModel",
      "_view_count": null,
      "_view_module": "@jupyter-widgets/controls",
      "_view_module_version": "1.5.0",
      "_view_name": "ProgressView",
      "bar_style": "success",
      "description": "",
      "description_tooltip": null,
      "layout": "IPY_MODEL_827a618362d0430d923abf33d7e2c9d0",
      "max": 24459,
      "min": 0,
      "orientation": "horizontal",
      "style": "IPY_MODEL_bfef8b3e75cf4a2bbb306735bdce9414",
      "value": 24459
     }
    },
    "5cc6ed1a1f1e4e82bb84cd8b90eef884": {
     "model_module": "@jupyter-widgets/controls",
     "model_module_version": "1.5.0",
     "model_name": "FloatProgressModel",
     "state": {
      "_dom_classes": [],
      "_model_module": "@jupyter-widgets/controls",
      "_model_module_version": "1.5.0",
      "_model_name": "FloatProgressModel",
      "_view_count": null,
      "_view_module": "@jupyter-widgets/controls",
      "_view_module_version": "1.5.0",
      "_view_name": "ProgressView",
      "bar_style": "success",
      "description": "",
      "description_tooltip": null,
      "layout": "IPY_MODEL_9c441bec46ba448d98c2a8291eee69d1",
      "max": 143834355,
      "min": 0,
      "orientation": "horizontal",
      "style": "IPY_MODEL_bab67d862f804182ab2e6418c101004c",
      "value": 143834355
     }
    },
    "61152e15735840118c7f8d11d23bd322": {
     "model_module": "@jupyter-widgets/controls",
     "model_module_version": "1.5.0",
     "model_name": "HTMLModel",
     "state": {
      "_dom_classes": [],
      "_model_module": "@jupyter-widgets/controls",
      "_model_module_version": "1.5.0",
      "_model_name": "HTMLModel",
      "_view_count": null,
      "_view_module": "@jupyter-widgets/controls",
      "_view_module_version": "1.5.0",
      "_view_name": "HTMLView",
      "description": "",
      "description_tooltip": null,
      "layout": "IPY_MODEL_6e000a96ee82480f8244e809328d3727",
      "placeholder": "​",
      "style": "IPY_MODEL_531af6ea93904c72ab353e203f22876c",
      "value": " 142k/? [00:00&lt;00:00, 3.23MB/s]"
     }
    },
    "65c278f054c44461b37178c18cea58ed": {
     "model_module": "@jupyter-widgets/controls",
     "model_module_version": "1.5.0",
     "model_name": "HTMLModel",
     "state": {
      "_dom_classes": [],
      "_model_module": "@jupyter-widgets/controls",
      "_model_module_version": "1.5.0",
      "_model_name": "HTMLModel",
      "_view_count": null,
      "_view_module": "@jupyter-widgets/controls",
      "_view_module_version": "1.5.0",
      "_view_name": "HTMLView",
      "description": "",
      "description_tooltip": null,
      "layout": "IPY_MODEL_cdfb19a6644f4a4fbf24e5538e4ce880",
      "placeholder": "​",
      "style": "IPY_MODEL_519bd2dd60f94dd49ab8158b5899f06b",
      "value": " 144M/144M [00:00&lt;00:00, 176MB/s]"
     }
    },
    "6e000a96ee82480f8244e809328d3727": {
     "model_module": "@jupyter-widgets/base",
     "model_module_version": "1.2.0",
     "model_name": "LayoutModel",
     "state": {
      "_model_module": "@jupyter-widgets/base",
      "_model_module_version": "1.2.0",
      "_model_name": "LayoutModel",
      "_view_count": null,
      "_view_module": "@jupyter-widgets/base",
      "_view_module_version": "1.2.0",
      "_view_name": "LayoutView",
      "align_content": null,
      "align_items": null,
      "align_self": null,
      "border": null,
      "bottom": null,
      "display": null,
      "flex": null,
      "flex_flow": null,
      "grid_area": null,
      "grid_auto_columns": null,
      "grid_auto_flow": null,
      "grid_auto_rows": null,
      "grid_column": null,
      "grid_gap": null,
      "grid_row": null,
      "grid_template_areas": null,
      "grid_template_columns": null,
      "grid_template_rows": null,
      "height": null,
      "justify_content": null,
      "justify_items": null,
      "left": null,
      "margin": null,
      "max_height": null,
      "max_width": null,
      "min_height": null,
      "min_width": null,
      "object_fit": null,
      "object_position": null,
      "order": null,
      "overflow": null,
      "overflow_x": null,
      "overflow_y": null,
      "padding": null,
      "right": null,
      "top": null,
      "visibility": null,
      "width": null
     }
    },
    "7fd3502af366428cb161db9c189665b7": {
     "model_module": "@jupyter-widgets/controls",
     "model_module_version": "1.5.0",
     "model_name": "DescriptionStyleModel",
     "state": {
      "_model_module": "@jupyter-widgets/controls",
      "_model_module_version": "1.5.0",
      "_model_name": "DescriptionStyleModel",
      "_view_count": null,
      "_view_module": "@jupyter-widgets/base",
      "_view_module_version": "1.2.0",
      "_view_name": "StyleView",
      "description_width": ""
     }
    },
    "827a618362d0430d923abf33d7e2c9d0": {
     "model_module": "@jupyter-widgets/base",
     "model_module_version": "1.2.0",
     "model_name": "LayoutModel",
     "state": {
      "_model_module": "@jupyter-widgets/base",
      "_model_module_version": "1.2.0",
      "_model_name": "LayoutModel",
      "_view_count": null,
      "_view_module": "@jupyter-widgets/base",
      "_view_module_version": "1.2.0",
      "_view_name": "LayoutView",
      "align_content": null,
      "align_items": null,
      "align_self": null,
      "border": null,
      "bottom": null,
      "display": null,
      "flex": null,
      "flex_flow": null,
      "grid_area": null,
      "grid_auto_columns": null,
      "grid_auto_flow": null,
      "grid_auto_rows": null,
      "grid_column": null,
      "grid_gap": null,
      "grid_row": null,
      "grid_template_areas": null,
      "grid_template_columns": null,
      "grid_template_rows": null,
      "height": null,
      "justify_content": null,
      "justify_items": null,
      "left": null,
      "margin": null,
      "max_height": null,
      "max_width": null,
      "min_height": null,
      "min_width": null,
      "object_fit": null,
      "object_position": null,
      "order": null,
      "overflow": null,
      "overflow_x": null,
      "overflow_y": null,
      "padding": null,
      "right": null,
      "top": null,
      "visibility": null,
      "width": null
     }
    },
    "8cfec52e79a641e696a5d3917067f4ea": {
     "model_module": "@jupyter-widgets/controls",
     "model_module_version": "1.5.0",
     "model_name": "HBoxModel",
     "state": {
      "_dom_classes": [],
      "_model_module": "@jupyter-widgets/controls",
      "_model_module_version": "1.5.0",
      "_model_name": "HBoxModel",
      "_view_count": null,
      "_view_module": "@jupyter-widgets/controls",
      "_view_module_version": "1.5.0",
      "_view_name": "HBoxView",
      "box_style": "",
      "children": [
       "IPY_MODEL_abe2166ee6b44a6f8e1217576f5352d7",
       "IPY_MODEL_5cc6ed1a1f1e4e82bb84cd8b90eef884",
       "IPY_MODEL_65c278f054c44461b37178c18cea58ed"
      ],
      "layout": "IPY_MODEL_0b0058c93c5940628c48d2f931d4c48c"
     }
    },
    "9c441bec46ba448d98c2a8291eee69d1": {
     "model_module": "@jupyter-widgets/base",
     "model_module_version": "1.2.0",
     "model_name": "LayoutModel",
     "state": {
      "_model_module": "@jupyter-widgets/base",
      "_model_module_version": "1.2.0",
      "_model_name": "LayoutModel",
      "_view_count": null,
      "_view_module": "@jupyter-widgets/base",
      "_view_module_version": "1.2.0",
      "_view_name": "LayoutView",
      "align_content": null,
      "align_items": null,
      "align_self": null,
      "border": null,
      "bottom": null,
      "display": null,
      "flex": null,
      "flex_flow": null,
      "grid_area": null,
      "grid_auto_columns": null,
      "grid_auto_flow": null,
      "grid_auto_rows": null,
      "grid_column": null,
      "grid_gap": null,
      "grid_row": null,
      "grid_template_areas": null,
      "grid_template_columns": null,
      "grid_template_rows": null,
      "height": null,
      "justify_content": null,
      "justify_items": null,
      "left": null,
      "margin": null,
      "max_height": null,
      "max_width": null,
      "min_height": null,
      "min_width": null,
      "object_fit": null,
      "object_position": null,
      "order": null,
      "overflow": null,
      "overflow_x": null,
      "overflow_y": null,
      "padding": null,
      "right": null,
      "top": null,
      "visibility": null,
      "width": null
     }
    },
    "abe2166ee6b44a6f8e1217576f5352d7": {
     "model_module": "@jupyter-widgets/controls",
     "model_module_version": "1.5.0",
     "model_name": "HTMLModel",
     "state": {
      "_dom_classes": [],
      "_model_module": "@jupyter-widgets/controls",
      "_model_module_version": "1.5.0",
      "_model_name": "HTMLModel",
      "_view_count": null,
      "_view_module": "@jupyter-widgets/controls",
      "_view_module_version": "1.5.0",
      "_view_name": "HTMLView",
      "description": "",
      "description_tooltip": null,
      "layout": "IPY_MODEL_f15939d974004c4cb5c2846e62bdc89f",
      "placeholder": "​",
      "style": "IPY_MODEL_7fd3502af366428cb161db9c189665b7",
      "value": "Downloading https://huggingface.co/stanfordnlp/stanza-ur/resolve/v1.3.0/models/default.zip: 100%"
     }
    },
    "ac53e8c720064790bca51a2f5cf2921f": {
     "model_module": "@jupyter-widgets/base",
     "model_module_version": "1.2.0",
     "model_name": "LayoutModel",
     "state": {
      "_model_module": "@jupyter-widgets/base",
      "_model_module_version": "1.2.0",
      "_model_name": "LayoutModel",
      "_view_count": null,
      "_view_module": "@jupyter-widgets/base",
      "_view_module_version": "1.2.0",
      "_view_name": "LayoutView",
      "align_content": null,
      "align_items": null,
      "align_self": null,
      "border": null,
      "bottom": null,
      "display": null,
      "flex": null,
      "flex_flow": null,
      "grid_area": null,
      "grid_auto_columns": null,
      "grid_auto_flow": null,
      "grid_auto_rows": null,
      "grid_column": null,
      "grid_gap": null,
      "grid_row": null,
      "grid_template_areas": null,
      "grid_template_columns": null,
      "grid_template_rows": null,
      "height": null,
      "justify_content": null,
      "justify_items": null,
      "left": null,
      "margin": null,
      "max_height": null,
      "max_width": null,
      "min_height": null,
      "min_width": null,
      "object_fit": null,
      "object_position": null,
      "order": null,
      "overflow": null,
      "overflow_x": null,
      "overflow_y": null,
      "padding": null,
      "right": null,
      "top": null,
      "visibility": null,
      "width": null
     }
    },
    "bab67d862f804182ab2e6418c101004c": {
     "model_module": "@jupyter-widgets/controls",
     "model_module_version": "1.5.0",
     "model_name": "ProgressStyleModel",
     "state": {
      "_model_module": "@jupyter-widgets/controls",
      "_model_module_version": "1.5.0",
      "_model_name": "ProgressStyleModel",
      "_view_count": null,
      "_view_module": "@jupyter-widgets/base",
      "_view_module_version": "1.2.0",
      "_view_name": "StyleView",
      "bar_color": null,
      "description_width": ""
     }
    },
    "bfef8b3e75cf4a2bbb306735bdce9414": {
     "model_module": "@jupyter-widgets/controls",
     "model_module_version": "1.5.0",
     "model_name": "ProgressStyleModel",
     "state": {
      "_model_module": "@jupyter-widgets/controls",
      "_model_module_version": "1.5.0",
      "_model_name": "ProgressStyleModel",
      "_view_count": null,
      "_view_module": "@jupyter-widgets/base",
      "_view_module_version": "1.2.0",
      "_view_name": "StyleView",
      "bar_color": null,
      "description_width": ""
     }
    },
    "cdfb19a6644f4a4fbf24e5538e4ce880": {
     "model_module": "@jupyter-widgets/base",
     "model_module_version": "1.2.0",
     "model_name": "LayoutModel",
     "state": {
      "_model_module": "@jupyter-widgets/base",
      "_model_module_version": "1.2.0",
      "_model_name": "LayoutModel",
      "_view_count": null,
      "_view_module": "@jupyter-widgets/base",
      "_view_module_version": "1.2.0",
      "_view_name": "LayoutView",
      "align_content": null,
      "align_items": null,
      "align_self": null,
      "border": null,
      "bottom": null,
      "display": null,
      "flex": null,
      "flex_flow": null,
      "grid_area": null,
      "grid_auto_columns": null,
      "grid_auto_flow": null,
      "grid_auto_rows": null,
      "grid_column": null,
      "grid_gap": null,
      "grid_row": null,
      "grid_template_areas": null,
      "grid_template_columns": null,
      "grid_template_rows": null,
      "height": null,
      "justify_content": null,
      "justify_items": null,
      "left": null,
      "margin": null,
      "max_height": null,
      "max_width": null,
      "min_height": null,
      "min_width": null,
      "object_fit": null,
      "object_position": null,
      "order": null,
      "overflow": null,
      "overflow_x": null,
      "overflow_y": null,
      "padding": null,
      "right": null,
      "top": null,
      "visibility": null,
      "width": null
     }
    },
    "f15939d974004c4cb5c2846e62bdc89f": {
     "model_module": "@jupyter-widgets/base",
     "model_module_version": "1.2.0",
     "model_name": "LayoutModel",
     "state": {
      "_model_module": "@jupyter-widgets/base",
      "_model_module_version": "1.2.0",
      "_model_name": "LayoutModel",
      "_view_count": null,
      "_view_module": "@jupyter-widgets/base",
      "_view_module_version": "1.2.0",
      "_view_name": "LayoutView",
      "align_content": null,
      "align_items": null,
      "align_self": null,
      "border": null,
      "bottom": null,
      "display": null,
      "flex": null,
      "flex_flow": null,
      "grid_area": null,
      "grid_auto_columns": null,
      "grid_auto_flow": null,
      "grid_auto_rows": null,
      "grid_column": null,
      "grid_gap": null,
      "grid_row": null,
      "grid_template_areas": null,
      "grid_template_columns": null,
      "grid_template_rows": null,
      "height": null,
      "justify_content": null,
      "justify_items": null,
      "left": null,
      "margin": null,
      "max_height": null,
      "max_width": null,
      "min_height": null,
      "min_width": null,
      "object_fit": null,
      "object_position": null,
      "order": null,
      "overflow": null,
      "overflow_x": null,
      "overflow_y": null,
      "padding": null,
      "right": null,
      "top": null,
      "visibility": null,
      "width": null
     }
    },
    "fcbac440ec0a4a6191f03ad321011ac2": {
     "model_module": "@jupyter-widgets/controls",
     "model_module_version": "1.5.0",
     "model_name": "DescriptionStyleModel",
     "state": {
      "_model_module": "@jupyter-widgets/controls",
      "_model_module_version": "1.5.0",
      "_model_name": "DescriptionStyleModel",
      "_view_count": null,
      "_view_module": "@jupyter-widgets/base",
      "_view_module_version": "1.2.0",
      "_view_name": "StyleView",
      "description_width": ""
     }
    }
   }
  }
 },
 "nbformat": 4,
 "nbformat_minor": 1
}
